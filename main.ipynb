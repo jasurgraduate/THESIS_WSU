{
 "cells": [
  {
   "cell_type": "markdown",
   "metadata": {},
   "source": [
    "# CSV file before and after datasets"
   ]
  },
  {
   "cell_type": "code",
   "execution_count": null,
   "metadata": {},
   "outputs": [],
   "source": [
    "#this is where the real shit begins"
   ]
  },
  {
   "cell_type": "markdown",
   "metadata": {},
   "source": [
    "# Cleaning excel sheet and create csv file"
   ]
  },
  {
   "cell_type": "code",
   "execution_count": null,
   "metadata": {},
   "outputs": [],
   "source": [
    "import pandas as pd\n",
    "import os\n",
    "\n",
    "file_path = os.path.join(os.getcwd(), \"fault_data_inv.xlsx\")\n",
    "df = pd.read_excel(file_path, engine='openpyxl')\n",
    "\n",
    "# set column names\n",
    "df.columns = df.iloc[0]\n",
    "df = df[1:].reset_index(drop=True)  # dont take the first row\n",
    "\n",
    "# save as csv\n",
    "csv_path = \"initial_fault_data.csv\"\n",
    "df.to_csv(csv_path, index=False)\n",
    "\n",
    "print(f\"CSV saved at: {csv_path}\")\n"
   ]
  },
  {
   "cell_type": "markdown",
   "metadata": {},
   "source": [
    "# cleaning csv file"
   ]
  },
  {
   "cell_type": "code",
   "execution_count": null,
   "metadata": {},
   "outputs": [],
   "source": [
    "import pandas as pd\n",
    "\n",
    "csv_path = \"initial_fault_data.csv\"\n",
    "df = pd.read_csv(csv_path)\n",
    "\n",
    "print(df.head())\n",
    "\n",
    "# remove values with no change\n",
    "df_cleaned = df[df.iloc[:, 2:].nunique(axis=1) > 1]\n",
    "\n",
    "# cleaned csv\n",
    "cleaned_csv_path = \"cleaned_fault_data.csv\"\n",
    "df_cleaned.to_csv(cleaned_csv_path, index=False)\n",
    "\n",
    "print(f\"Cleaned CSV saved at: {cleaned_csv_path}\")\n"
   ]
  },
  {
   "cell_type": "markdown",
   "metadata": {},
   "source": [
    "# getting mean values and a new csv file"
   ]
  },
  {
   "cell_type": "code",
   "execution_count": null,
   "metadata": {},
   "outputs": [],
   "source": [
    "import pandas as pd\n",
    "\n",
    "df = pd.read_csv('cleaned_fault_data.csv')\n",
    "\n",
    "# strip whitespace\n",
    "df.columns = df.columns.str.strip()\n",
    "\n",
    "# errors='coerce' will turn non-numeric values into NaN\n",
    "df.iloc[:, 2:] = df.iloc[:, 2:].apply(pd.to_numeric, errors='coerce')\n",
    "\n",
    "# mean values before fault (columns C to G)\n",
    "df['Mean_Before_Fault'] = df.iloc[:, 2:7].mean(axis=1)\n",
    "\n",
    "# mean values after fault (columns H to L)\n",
    "df['Mean_After_Fault'] = df.iloc[:, 7:12].mean(axis=1)\n",
    "\n",
    "# new data\n",
    "mean_df = df.iloc[:, [0, 1]].copy()\n",
    "mean_df['Mean_Before_Fault'] = df['Mean_Before_Fault']\n",
    "mean_df['Mean_After_Fault'] = df['Mean_After_Fault']\n",
    "\n",
    "# replace NaN values with N/A cause i like it\n",
    "mean_df = mean_df.fillna(\"N/A\")\n",
    "\n",
    "# mean values csv\n",
    "mean_df.to_csv('mean_values.csv', index=False)\n",
    "\n",
    "# just to see\n",
    "print(mean_df)\n"
   ]
  },
  {
   "cell_type": "markdown",
   "metadata": {},
   "source": [
    "# sort mean_values csv"
   ]
  },
  {
   "cell_type": "code",
   "execution_count": null,
   "metadata": {},
   "outputs": [],
   "source": [
    "import pandas as pd\n",
    "\n",
    "df = pd.read_csv('mean_values.csv')\n",
    "\n",
    "df.columns = df.columns.str.strip()\n",
    "\n",
    "df[['Mean_Before_Fault', 'Mean_After_Fault']] = df[['Mean_Before_Fault', 'Mean_After_Fault']].replace(\"N/A\", pd.NA)\n",
    "df[['Mean_Before_Fault', 'Mean_After_Fault']] = df[['Mean_Before_Fault', 'Mean_After_Fault']].apply(pd.to_numeric, errors='coerce')\n",
    "\n",
    "# normal changes\n",
    "df['Change_Type'] = 'Normal Change'\n",
    "df.loc[(df['Mean_Before_Fault'] == 0) & (df['Mean_After_Fault'] != 0), 'Change_Type'] = 'Zero to Non-Zero Change'\n",
    "\n",
    "df['Absolute_Percentage_Change'] = abs((df['Mean_After_Fault'] - df['Mean_Before_Fault']) / df['Mean_Before_Fault']) * 100\n",
    "df.loc[df['Change_Type'] == 'Zero to Non-Zero Change', 'Absolute_Percentage_Change'] = float('inf')\n",
    "\n",
    "zero_to_non_zero_df = df[df['Change_Type'] == 'Zero to Non-Zero Change']\n",
    "\n",
    "normal_change_df = df[df['Change_Type'] != 'Zero to Non-Zero Change']\n",
    "\n",
    "# absolute change\n",
    "normal_change_df = normal_change_df.sort_values(by='Absolute_Percentage_Change', ascending=False)\n",
    "\n",
    "# sort data\n",
    "sorted_df = pd.concat([zero_to_non_zero_df, normal_change_df], ignore_index=True)\n",
    "\n",
    "sorted_df = sorted_df.fillna(\"N/A\")\n",
    "\n",
    "sorted_df.to_csv('mean_values_sorted.csv', index=False)\n",
    "\n",
    "print(sorted_df)\n"
   ]
  },
  {
   "cell_type": "markdown",
   "metadata": {},
   "source": [
    "# time to plot a bar graph to see freaking differences"
   ]
  },
  {
   "cell_type": "code",
   "execution_count": null,
   "metadata": {},
   "outputs": [],
   "source": [
    "import pandas as pd\n",
    "import seaborn as sns\n",
    "import matplotlib.pyplot as plt\n",
    "\n",
    "df = pd.read_csv('mean_values_sorted.csv')\n",
    "df.columns = df.columns.str.strip()\n",
    "\n",
    "num_cols = 10  \n",
    "num_rows = (len(df.iloc[2:]) // num_cols) + 1  \n",
    "\n",
    "\n",
    "aspect_ratio = max(num_rows, num_cols)\n",
    "\n",
    "\n",
    "fig, axes = plt.subplots(num_rows, num_cols, figsize=(aspect_ratio * 3, aspect_ratio * 3))\n",
    "fig.tight_layout(pad=5.0)\n",
    "axes = axes.flatten()\n",
    "\n",
    "for idx, (index, row) in enumerate(df.iloc[2:].iterrows()):\n",
    "    field_name = row.iloc[0]\n",
    "    unit = row.iloc[1]\n",
    "    mean_before = row.iloc[2]\n",
    "    mean_after = row.iloc[3]\n",
    "    \n",
    "    data = {\n",
    "        'Field Name': ['Before', 'After'],\n",
    "        'Mean Value': [mean_before, mean_after]\n",
    "    }\n",
    "    \n",
    "    plot_df = pd.DataFrame(data)\n",
    "    \n",
    "    ax = axes[idx]\n",
    "    \n",
    "    sns.set_theme(style=\"whitegrid\")\n",
    "    sns.barplot(data=plot_df, x='Field Name', y='Mean Value', hue='Field Name', palette='Blues', ax=ax, legend=False)\n",
    "    \n",
    "    ax.set_title(f\"{field_name} ({unit})\", fontsize=12)\n",
    "    ax.set_xlabel('')\n",
    "    ax.set_ylabel(f'{unit}', fontsize=12)\n",
    "    \n",
    "    for p in ax.patches:\n",
    "        ax.annotate(f'{p.get_height():.2f}', \n",
    "                    (p.get_x() + p.get_width() / 2., p.get_height()), \n",
    "                    ha='center', va='center', \n",
    "                    fontsize=12, color='black', \n",
    "                    xytext=(0, 9), textcoords='offset points')\n",
    "    \n",
    "    ax.set_xticks([0, 1])\n",
    "    ax.grid(True, linestyle='--', alpha=0.6)\n",
    "\n",
    "for idx in range(len(df.iloc[2:]), len(axes)):\n",
    "    axes[idx].axis('off')\n",
    "\n",
    "plt.tight_layout()\n",
    "plt.show()\n"
   ]
  },
  {
   "cell_type": "markdown",
   "metadata": {},
   "source": [
    "# plot fix"
   ]
  },
  {
   "cell_type": "code",
   "execution_count": null,
   "metadata": {},
   "outputs": [],
   "source": [
    "import pandas as pd\n",
    "import seaborn as sns\n",
    "import matplotlib.pyplot as plt\n",
    "import numpy as np\n",
    "\n",
    "df = pd.read_csv('mean_values.csv')\n",
    "\n",
    "df.columns = df.columns.str.strip()\n",
    "\n",
    "row = df.iloc[2] \n",
    "\n",
    "field_name = row.iloc[0]  \n",
    "unit = row.iloc[1]  \n",
    "mean_before = row.iloc[2]  \n",
    "mean_after = row.iloc[3]  \n",
    "\n",
    "data = {\n",
    "    'Field Name': [f\"Before\", f\"After\"],  # x-axis\n",
    "    'Mean Value': [mean_before, mean_after]\n",
    "}\n",
    "plot_df = pd.DataFrame(data)\n",
    "\n",
    "# plot size\n",
    "plt.figure(figsize=(10, 6))\n",
    "\n",
    "sns.set_theme(style=\"whitegrid\")\n",
    "ax = sns.barplot(data=plot_df, x='Field Name', y='Mean Value', hue='Field Name', palette='Blues', legend=False)\n",
    "\n",
    "# title and axis labels\n",
    "ax.set_title(f\"{field_name} ({unit})\", fontsize=16)\n",
    "ax.set_xlabel('')  # remove the x-axis title\n",
    "ax.set_ylabel(f'{unit}', fontsize=12)\n",
    "\n",
    "\n",
    "for p in ax.patches:\n",
    "    ax.annotate(f'{p.get_height():.2f}', \n",
    "                (p.get_x() + p.get_width() / 2., p.get_height()), \n",
    "                ha='center', va='center', \n",
    "                fontsize=12, color='black', \n",
    "                xytext=(0, 9), textcoords='offset points')\n",
    "\n",
    "\n",
    "ax.set_xticks([0, 1])\n",
    "\n",
    "# Add gridlines\n",
    "ax.grid(True, linestyle='--', alpha=0.6)\n",
    "\n",
    "# Show the plot\n",
    "plt.tight_layout()\n",
    "plt.show()\n"
   ]
  }
 ],
 "metadata": {
  "kernelspec": {
   "display_name": "Python 3",
   "language": "python",
   "name": "python3"
  },
  "language_info": {
   "codemirror_mode": {
    "name": "ipython",
    "version": 3
   },
   "file_extension": ".py",
   "mimetype": "text/x-python",
   "name": "python",
   "nbconvert_exporter": "python",
   "pygments_lexer": "ipython3",
   "version": "3.13.2"
  }
 },
 "nbformat": 4,
 "nbformat_minor": 2
}
