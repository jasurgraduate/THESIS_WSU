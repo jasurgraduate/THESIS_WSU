{
 "cells": [
  {
   "cell_type": "code",
   "execution_count": 1,
   "metadata": {},
   "outputs": [
    {
     "ename": "XLRDError",
     "evalue": "Unsupported format, or corrupt file: Expected BOF record; found b'<div id='",
     "output_type": "error",
     "traceback": [
      "\u001b[31m---------------------------------------------------------------------------\u001b[39m",
      "\u001b[31mXLRDError\u001b[39m                                 Traceback (most recent call last)",
      "\u001b[36mCell\u001b[39m\u001b[36m \u001b[39m\u001b[32mIn[1]\u001b[39m\u001b[32m, line 26\u001b[39m\n\u001b[32m     22\u001b[39m     \u001b[38;5;28mprint\u001b[39m(\u001b[33mf\u001b[39m\u001b[33m\"\u001b[39m\u001b[33mFile converted and saved as \u001b[39m\u001b[38;5;132;01m{\u001b[39;00mxlsx_file\u001b[38;5;132;01m}\u001b[39;00m\u001b[33m\"\u001b[39m)\n\u001b[32m     24\u001b[39m xls_path = \u001b[33m\"\u001b[39m\u001b[33mfault_data.xls\u001b[39m\u001b[33m\"\u001b[39m\n\u001b[32m---> \u001b[39m\u001b[32m26\u001b[39m \u001b[43mconvert_xls_to_xlsx\u001b[49m\u001b[43m(\u001b[49m\u001b[43mxls_path\u001b[49m\u001b[43m)\u001b[49m\n",
      "\u001b[36mCell\u001b[39m\u001b[36m \u001b[39m\u001b[32mIn[1]\u001b[39m\u001b[32m, line 11\u001b[39m, in \u001b[36mconvert_xls_to_xlsx\u001b[39m\u001b[34m(xls_file)\u001b[39m\n\u001b[32m      7\u001b[39m file_dir = os.path.dirname(xls_file)\n\u001b[32m      9\u001b[39m xlsx_file = os.path.join(file_dir, \u001b[33m\"\u001b[39m\u001b[33mconverted_fault_data.xlsx\u001b[39m\u001b[33m\"\u001b[39m)\n\u001b[32m---> \u001b[39m\u001b[32m11\u001b[39m book = \u001b[43mopen_workbook\u001b[49m\u001b[43m(\u001b[49m\u001b[43mxls_file\u001b[49m\u001b[43m)\u001b[49m\n\u001b[32m     13\u001b[39m new_book = Workbook()\n\u001b[32m     14\u001b[39m writer = pd.ExcelWriter(xlsx_file, engine=\u001b[33m'\u001b[39m\u001b[33mopenpyxl\u001b[39m\u001b[33m'\u001b[39m)\n",
      "\u001b[36mFile \u001b[39m\u001b[32md:\\PROGRAMS\\PYTHON\\Lib\\site-packages\\xlrd\\__init__.py:172\u001b[39m, in \u001b[36mopen_workbook\u001b[39m\u001b[34m(filename, logfile, verbosity, use_mmap, file_contents, encoding_override, formatting_info, on_demand, ragged_rows, ignore_workbook_corruption)\u001b[39m\n\u001b[32m    169\u001b[39m \u001b[38;5;28;01mif\u001b[39;00m file_format \u001b[38;5;129;01mand\u001b[39;00m file_format != \u001b[33m'\u001b[39m\u001b[33mxls\u001b[39m\u001b[33m'\u001b[39m:\n\u001b[32m    170\u001b[39m     \u001b[38;5;28;01mraise\u001b[39;00m XLRDError(FILE_FORMAT_DESCRIPTIONS[file_format]+\u001b[33m'\u001b[39m\u001b[33m; not supported\u001b[39m\u001b[33m'\u001b[39m)\n\u001b[32m--> \u001b[39m\u001b[32m172\u001b[39m bk = \u001b[43mopen_workbook_xls\u001b[49m\u001b[43m(\u001b[49m\n\u001b[32m    173\u001b[39m \u001b[43m    \u001b[49m\u001b[43mfilename\u001b[49m\u001b[43m=\u001b[49m\u001b[43mfilename\u001b[49m\u001b[43m,\u001b[49m\n\u001b[32m    174\u001b[39m \u001b[43m    \u001b[49m\u001b[43mlogfile\u001b[49m\u001b[43m=\u001b[49m\u001b[43mlogfile\u001b[49m\u001b[43m,\u001b[49m\n\u001b[32m    175\u001b[39m \u001b[43m    \u001b[49m\u001b[43mverbosity\u001b[49m\u001b[43m=\u001b[49m\u001b[43mverbosity\u001b[49m\u001b[43m,\u001b[49m\n\u001b[32m    176\u001b[39m \u001b[43m    \u001b[49m\u001b[43muse_mmap\u001b[49m\u001b[43m=\u001b[49m\u001b[43muse_mmap\u001b[49m\u001b[43m,\u001b[49m\n\u001b[32m    177\u001b[39m \u001b[43m    \u001b[49m\u001b[43mfile_contents\u001b[49m\u001b[43m=\u001b[49m\u001b[43mfile_contents\u001b[49m\u001b[43m,\u001b[49m\n\u001b[32m    178\u001b[39m \u001b[43m    \u001b[49m\u001b[43mencoding_override\u001b[49m\u001b[43m=\u001b[49m\u001b[43mencoding_override\u001b[49m\u001b[43m,\u001b[49m\n\u001b[32m    179\u001b[39m \u001b[43m    \u001b[49m\u001b[43mformatting_info\u001b[49m\u001b[43m=\u001b[49m\u001b[43mformatting_info\u001b[49m\u001b[43m,\u001b[49m\n\u001b[32m    180\u001b[39m \u001b[43m    \u001b[49m\u001b[43mon_demand\u001b[49m\u001b[43m=\u001b[49m\u001b[43mon_demand\u001b[49m\u001b[43m,\u001b[49m\n\u001b[32m    181\u001b[39m \u001b[43m    \u001b[49m\u001b[43mragged_rows\u001b[49m\u001b[43m=\u001b[49m\u001b[43mragged_rows\u001b[49m\u001b[43m,\u001b[49m\n\u001b[32m    182\u001b[39m \u001b[43m    \u001b[49m\u001b[43mignore_workbook_corruption\u001b[49m\u001b[43m=\u001b[49m\u001b[43mignore_workbook_corruption\u001b[49m\u001b[43m,\u001b[49m\n\u001b[32m    183\u001b[39m \u001b[43m\u001b[49m\u001b[43m)\u001b[49m\n\u001b[32m    185\u001b[39m \u001b[38;5;28;01mreturn\u001b[39;00m bk\n",
      "\u001b[36mFile \u001b[39m\u001b[32md:\\PROGRAMS\\PYTHON\\Lib\\site-packages\\xlrd\\book.py:79\u001b[39m, in \u001b[36mopen_workbook_xls\u001b[39m\u001b[34m(filename, logfile, verbosity, use_mmap, file_contents, encoding_override, formatting_info, on_demand, ragged_rows, ignore_workbook_corruption)\u001b[39m\n\u001b[32m     77\u001b[39m t1 = perf_counter()\n\u001b[32m     78\u001b[39m bk.load_time_stage_1 = t1 - t0\n\u001b[32m---> \u001b[39m\u001b[32m79\u001b[39m biff_version = \u001b[43mbk\u001b[49m\u001b[43m.\u001b[49m\u001b[43mgetbof\u001b[49m\u001b[43m(\u001b[49m\u001b[43mXL_WORKBOOK_GLOBALS\u001b[49m\u001b[43m)\u001b[49m\n\u001b[32m     80\u001b[39m \u001b[38;5;28;01mif\u001b[39;00m \u001b[38;5;129;01mnot\u001b[39;00m biff_version:\n\u001b[32m     81\u001b[39m     \u001b[38;5;28;01mraise\u001b[39;00m XLRDError(\u001b[33m\"\u001b[39m\u001b[33mCan\u001b[39m\u001b[33m'\u001b[39m\u001b[33mt determine file\u001b[39m\u001b[33m'\u001b[39m\u001b[33ms BIFF version\u001b[39m\u001b[33m\"\u001b[39m)\n",
      "\u001b[36mFile \u001b[39m\u001b[32md:\\PROGRAMS\\PYTHON\\Lib\\site-packages\\xlrd\\book.py:1284\u001b[39m, in \u001b[36mBook.getbof\u001b[39m\u001b[34m(self, rqd_stream)\u001b[39m\n\u001b[32m   1282\u001b[39m     bof_error(\u001b[33m'\u001b[39m\u001b[33mExpected BOF record; met end of file\u001b[39m\u001b[33m'\u001b[39m)\n\u001b[32m   1283\u001b[39m \u001b[38;5;28;01mif\u001b[39;00m opcode \u001b[38;5;129;01mnot\u001b[39;00m \u001b[38;5;129;01min\u001b[39;00m bofcodes:\n\u001b[32m-> \u001b[39m\u001b[32m1284\u001b[39m     \u001b[43mbof_error\u001b[49m\u001b[43m(\u001b[49m\u001b[33;43m'\u001b[39;49m\u001b[33;43mExpected BOF record; found \u001b[39;49m\u001b[38;5;132;43;01m%r\u001b[39;49;00m\u001b[33;43m'\u001b[39;49m\u001b[43m \u001b[49m\u001b[43m%\u001b[49m\u001b[43m \u001b[49m\u001b[38;5;28;43mself\u001b[39;49m\u001b[43m.\u001b[49m\u001b[43mmem\u001b[49m\u001b[43m[\u001b[49m\u001b[43msavpos\u001b[49m\u001b[43m:\u001b[49m\u001b[43msavpos\u001b[49m\u001b[43m+\u001b[49m\u001b[32;43m8\u001b[39;49m\u001b[43m]\u001b[49m\u001b[43m)\u001b[49m\n\u001b[32m   1285\u001b[39m length = \u001b[38;5;28mself\u001b[39m.get2bytes()\n\u001b[32m   1286\u001b[39m \u001b[38;5;28;01mif\u001b[39;00m length == MY_EOF:\n",
      "\u001b[36mFile \u001b[39m\u001b[32md:\\PROGRAMS\\PYTHON\\Lib\\site-packages\\xlrd\\book.py:1278\u001b[39m, in \u001b[36mBook.getbof.<locals>.bof_error\u001b[39m\u001b[34m(msg)\u001b[39m\n\u001b[32m   1277\u001b[39m \u001b[38;5;28;01mdef\u001b[39;00m\u001b[38;5;250m \u001b[39m\u001b[34mbof_error\u001b[39m(msg):\n\u001b[32m-> \u001b[39m\u001b[32m1278\u001b[39m     \u001b[38;5;28;01mraise\u001b[39;00m XLRDError(\u001b[33m'\u001b[39m\u001b[33mUnsupported format, or corrupt file: \u001b[39m\u001b[33m'\u001b[39m + msg)\n",
      "\u001b[31mXLRDError\u001b[39m: Unsupported format, or corrupt file: Expected BOF record; found b'<div id='"
     ]
    }
   ],
   "source": [
    "import pandas as pd\n",
    "from openpyxl import Workbook\n",
    "from xlrd import open_workbook\n",
    "import os\n",
    "\n",
    "def convert_xls_to_xlsx(xls_file):\n",
    "    file_dir = os.path.dirname(xls_file)\n",
    "    \n",
    "    xlsx_file = os.path.join(file_dir, \"converted_fault_data.xlsx\")\n",
    "    \n",
    "    book = open_workbook(xls_file)\n",
    "    \n",
    "    new_book = Workbook()\n",
    "    writer = pd.ExcelWriter(xlsx_file, engine='openpyxl')\n",
    "    \n",
    "    for sheet_name in book.sheet_names():\n",
    "        sheet = book.sheet_by_name(sheet_name)\n",
    "        df = pd.read_excel(xls_file, sheet_name=sheet_name)\n",
    "        df.to_excel(writer, sheet_name=sheet_name, index=False)\n",
    "    \n",
    "    writer.save()\n",
    "    print(f\"File converted and saved as {xlsx_file}\")\n",
    "\n",
    "xls_path = \"fault_data.xls\"\n",
    "\n",
    "convert_xls_to_xlsx(xls_path)\n"
   ]
  }
 ],
 "metadata": {
  "kernelspec": {
   "display_name": "Python 3",
   "language": "python",
   "name": "python3"
  },
  "language_info": {
   "codemirror_mode": {
    "name": "ipython",
    "version": 3
   },
   "file_extension": ".py",
   "mimetype": "text/x-python",
   "name": "python",
   "nbconvert_exporter": "python",
   "pygments_lexer": "ipython3",
   "version": "3.13.2"
  }
 },
 "nbformat": 4,
 "nbformat_minor": 2
}
